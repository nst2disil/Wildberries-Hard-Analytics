{
 "cells": [
  {
   "cell_type": "markdown",
   "metadata": {},
   "source": [
    "**Тузова Анастасия**\n",
    "\n",
    "**ДЗ2**"
   ]
  },
  {
   "cell_type": "markdown",
   "metadata": {},
   "source": [
    "**Задача 1.** \n",
    "\n",
    "Из партии батареек с номинальным напряжением 12 В наугад выбрано семь штук. Согласно показаниям высокоточного вольтметра, фактически выдаваемое ими напряжение составило: 12,9; 11,6; 13,5; 13,9; 12,1; 11,9; 13,0 В соответственно. Можно ли считать, что среднее напряжение действительно равно 12 В?"
   ]
  },
  {
   "cell_type": "code",
   "execution_count": 111,
   "metadata": {},
   "outputs": [],
   "source": [
    "import numpy as np\n",
    "from scipy import stats"
   ]
  },
  {
   "cell_type": "markdown",
   "metadata": {},
   "source": [
    "Гипотеза о среднем <br>\n",
    "$ Ho:  \\mu_{\\text{}} = \\mu_{\\text{0}}  $ <br>\n",
    "$ Ha:  \\mu_{\\text{}} \\neq \\mu_{\\text{0}} $ <br>"
   ]
  },
  {
   "cell_type": "code",
   "execution_count": 112,
   "metadata": {},
   "outputs": [
    {
     "name": "stdout",
     "output_type": "stream",
     "text": [
      "Статистика критерия: 2.1578017974978794\n",
      "p-value: 0.07430190210562304\n"
     ]
    }
   ],
   "source": [
    "data = np.array([12.9, 11.6, 13.5, 13.9, 12.1, 11.9, 13.0])\n",
    "m0 = 12\n",
    "\n",
    "df = len(data) - 1 \n",
    "t = stats.t(df) \n",
    "T = (data.mean() - m0) * (df)**0.5 / data.std()\n",
    "p_value = min(2 * t.cdf(T), 2 - 2 * t.cdf(T))\n",
    "print(f\"Статистика критерия: {T}\")\n",
    "print(f\"p-value: {p_value}\")"
   ]
  },
  {
   "cell_type": "markdown",
   "metadata": {},
   "source": [
    "На уровне значимости больше 0.07430190210562304: нулевая гипотеза отвергается --> значение среднего напряжения статистически отличается от 12 В. <br>\n",
    "На уровне значимости меньше 0.07430190210562304: нулевая гипотеза не может быть отвергнута --> значение среднего напряжения статистически не отличается от 12 В. "
   ]
  },
  {
   "cell_type": "code",
   "execution_count": 113,
   "metadata": {},
   "outputs": [
    {
     "data": {
      "text/plain": [
       "TtestResult(statistic=np.float64(2.1578017974978794), pvalue=np.float64(0.07430190210562303), df=np.int64(6))"
      ]
     },
     "execution_count": 113,
     "metadata": {},
     "output_type": "execute_result"
    }
   ],
   "source": [
    "stats.ttest_1samp(data, m0)"
   ]
  },
  {
   "cell_type": "markdown",
   "metadata": {},
   "source": [
    "**Задача 2.**\n",
    "\n",
    "Есть два различных метода определения процентного содержания жира в мясе. Доля жира для 10 образцов мяса была определена каждым из двух методов. Позволяют ли полученные результаты сделать вывод о том, что один метод даёт в среднем более высокие показания, чем другой?"
   ]
  },
  {
   "cell_type": "markdown",
   "metadata": {},
   "source": [
    "Гипотеза о среднем при парных наблюдениях <br>\n",
    "$ Ho:  \\mu_{\\text{}} = \\mu_{\\text{0}}, \\mu_{\\text{}} = \\mu_{\\text{x}} - \\mu_{\\text{y}} $ <br> \n",
    "$ Ha:  \\mu_{\\text{}} \\neq \\mu_{\\text{0}} $ <br>"
   ]
  },
  {
   "cell_type": "code",
   "execution_count": 114,
   "metadata": {},
   "outputs": [
    {
     "name": "stdout",
     "output_type": "stream",
     "text": [
      "[ 0.4 -0.4 -0.6 -0.8 -0.3  1.5  0.1  0.1  0.3 -0.3]\n"
     ]
    }
   ],
   "source": [
    "method1 = np.array([23.1, 23.2, 26.5, 26.6, 27.1, 48.3, 40.5, 25.0, 38.4, 23.5])\n",
    "method2 = np.array([22.7, 23.6, 27.1, 27.4, 27.4, 46.8, 40.4, 24.9, 38.1, 23.8])\n",
    "data = method1 - method2 \n",
    "print(data)\n",
    "m0 = 0"
   ]
  },
  {
   "cell_type": "code",
   "execution_count": 115,
   "metadata": {},
   "outputs": [
    {
     "name": "stdout",
     "output_type": "stream",
     "text": [
      "Статистика критерия: 1.715488497867803e-15\n",
      "p-value: 0.9999999999999987\n"
     ]
    }
   ],
   "source": [
    "df = len(data) - 1 \n",
    "t = stats.t(df)\n",
    "T = (data.mean() - m0) * (df)**0.5 / data.std()\n",
    "p_value = min(2 * t.cdf(T), 2 - 2 * t.cdf(T))\n",
    "print(f\"Статистика критерия: {T}\")  \n",
    "print(f\"p-value: {p_value}\")"
   ]
  },
  {
   "cell_type": "markdown",
   "metadata": {},
   "source": [
    "На уровне значимости меньше 0.9999999999999987 нулевая гипотеза не может быть отвергнута --> разница между двумя методами статистически не значима. "
   ]
  },
  {
   "cell_type": "code",
   "execution_count": 116,
   "metadata": {},
   "outputs": [
    {
     "data": {
      "text/plain": [
       "TtestResult(statistic=np.float64(1.7154884978678027e-15), pvalue=np.float64(0.9999999999999987), df=np.int64(9))"
      ]
     },
     "execution_count": 116,
     "metadata": {},
     "output_type": "execute_result"
    }
   ],
   "source": [
    "stats.ttest_1samp(data, m0)"
   ]
  },
  {
   "cell_type": "markdown",
   "metadata": {},
   "source": [
    "**Задача 3.** \n",
    "\n",
    "Для проверки гипотезы о том, что жители городов имеют в среднем более высокое систолическое артериальное давление, чем жители сельской местности, было проведено обследование 10 горожан и 9 жителей села примерно одного возраста. Получены следующие данные об уровне давления для горожан: 132, 111, 119, 138, 200, 131, 138, 170, 159, 140; для селян: 115, 190, 127, 155, 148, 121, 116, 121, 197. Можно ли считать верной выдвинутую гипотезу на уровне значимости 0,05?"
   ]
  },
  {
   "cell_type": "markdown",
   "metadata": {},
   "source": [
    "Гипотеза о равенстве средних для независимых выборок <br>\n",
    "$ Ho:  \\mu_{\\text{city}} = \\mu_{\\text{village}}  $ <br>\n",
    "$ Ha:  \\mu_{\\text{city}} > \\mu_{\\text{village}} $ <br>"
   ]
  },
  {
   "cell_type": "code",
   "execution_count": 117,
   "metadata": {},
   "outputs": [],
   "source": [
    "cityData = np.array([132, 111, 119, 138, 200, 131, 138, 170, 159, 140])\n",
    "villageData = np.array([115, 190, 127, 155, 148, 121, 116, 121, 197])\n",
    "m = len(cityData)\n",
    "n = len(villageData)\n",
    "s2city = cityData.var()\n",
    "s2village = villageData.var()"
   ]
  },
  {
   "cell_type": "code",
   "execution_count": 118,
   "metadata": {},
   "outputs": [
    {
     "name": "stdout",
     "output_type": "stream",
     "text": [
      "Статистика критерия: 0.03681832098940068\n",
      "p-value: 0.48554266145506586\n",
      "Не можем отвергнуть нулевую гипотезу на уровне значимости 0,05.\n"
     ]
    }
   ],
   "source": [
    "T = (cityData.mean() - villageData.mean()) / (s2city / m + s2village / n)**0.5\n",
    "df = round((s2city / m + s2village / n)**2 / ( (s2city / m)**2 / (m - 1) + (s2village / n)**2 / (n - 1))) \n",
    "t = stats.t(df)\n",
    "p_value = 1 - t.cdf(T)\n",
    "print(f\"Статистика критерия: {T}\")\n",
    "print(f\"p-value: {p_value}\")\n",
    "\n",
    "alpha = 0.05\n",
    "if alpha > p_value:\n",
    "    print(\"Отвергаем нулевую гипотезу на уровне значимости 0,05.\")\n",
    "else:\n",
    "    print(\"Не можем отвергнуть нулевую гипотезу на уровне значимости 0,05.\")"
   ]
  },
  {
   "cell_type": "markdown",
   "metadata": {},
   "source": [
    "Разница между средними значениями систолического давления для городских и сельских жителей статистически не значима. "
   ]
  },
  {
   "cell_type": "code",
   "execution_count": 119,
   "metadata": {},
   "outputs": [
    {
     "data": {
      "text/plain": [
       "np.float64(0.486178812200461)"
      ]
     },
     "execution_count": 119,
     "metadata": {},
     "output_type": "execute_result"
    }
   ],
   "source": [
    "stats.ttest_ind(cityData, villageData).pvalue / 2"
   ]
  },
  {
   "cell_type": "markdown",
   "metadata": {},
   "source": [
    "**Задача 4.** \n",
    "\n",
    "Известно, что 52% новорождённых детей — мальчики, а 48% — девочки. В случайной выборке из 5 000 человек в возрасте от 30 до 60 лет мужчин оказалось 2 500. Можно ли на уровне значимости 0,05 считать, основываясь на этих данных, что смертность среди мужчин и женщин одинакова? "
   ]
  },
  {
   "cell_type": "markdown",
   "metadata": {},
   "source": [
    "Гипотеза о доле (вероятности) <br>\n",
    "смертность одинаковая --> в случайной выборке из 5000 человек должно быть 52% мужчин <br>\n",
    "$ Ho:  p = p_{\\text{0}} $ <br>\n",
    "$ Ha:  p \\neq p_{\\text{0}} $ <br>"
   ]
  },
  {
   "cell_type": "code",
   "execution_count": 120,
   "metadata": {},
   "outputs": [
    {
     "name": "stdout",
     "output_type": "stream",
     "text": [
      "Статистика критерия: -2.830692585361489\n",
      "p-value: 0.004644733942292514\n",
      "Отвергаем нулевую гипотезу на уровне значимости 0,05.\n"
     ]
    }
   ],
   "source": [
    "n = 5000\n",
    "m = 2500\n",
    "p0 = 0.52\n",
    "\n",
    "T = (m - n * p0) / (n * p0 * (1 - p0))**0.5\n",
    "norm_dist = stats.norm(0, 1) \n",
    "p_value = min(2 * norm_dist.cdf(T), 2 - 2 * norm_dist.cdf(T))\n",
    "print(f\"Статистика критерия: {T}\")\n",
    "print(f\"p-value: {p_value}\")\n",
    "\n",
    "alpha = 0.05\n",
    "if alpha > p_value:\n",
    "    print(\"Отвергаем нулевую гипотезу на уровне значимости 0,05.\")\n",
    "else:\n",
    "    print(\"Не можем отвергнуть нулевую гипотезу на уровне значимости 0,05.\")"
   ]
  },
  {
   "cell_type": "markdown",
   "metadata": {},
   "source": [
    "На уровне значимости 0,05 нулевая гипотеза отвергается --> разница в смертности мужчин и женщин статистически значима."
   ]
  },
  {
   "cell_type": "code",
   "execution_count": 121,
   "metadata": {},
   "outputs": [
    {
     "name": "stdout",
     "output_type": "stream",
     "text": [
      "Статистика критерия: 0.5\n",
      "p-value: 0.004849502159545284\n"
     ]
    }
   ],
   "source": [
    "result = stats.binomtest(m, n, p0)\n",
    "print(f\"Статистика критерия: {result.statistic}\")\n",
    "print(f\"p-value: {result.pvalue}\")"
   ]
  },
  {
   "cell_type": "markdown",
   "metadata": {},
   "source": [
    "**Задача 5.** \n",
    "\n",
    "В первом эксперименте для сравнения двух средних X1=17, X2=16 применялся t-критерий Стьюдента, и эти различия оказались значимы (p = 0, 001).\n",
    "Во втором исследовании, также при помощи t - критерия, сравнивались два средних X1=17, X2=36, и эти различия не значимы при p = 0,8. В чем может быть причина таких результатов, при условии, что нулевая и альтернативная гипотезы в обоих случаях одинаковы?"
   ]
  },
  {
   "cell_type": "markdown",
   "metadata": {},
   "source": [
    "Возможные причины таких результатов:\n",
    "1. Разница в дисперсии данных: в первом эксперименте дисперсия могла быть значительно меньше, из-за чего были выявлены значимые различия.\n",
    "2. Разный размер выборок: слишком малая выборка во втором эксперименте или слишком большая в первом. "
   ]
  }
 ],
 "metadata": {
  "kernelspec": {
   "display_name": "Python 3",
   "language": "python",
   "name": "python3"
  },
  "language_info": {
   "codemirror_mode": {
    "name": "ipython",
    "version": 3
   },
   "file_extension": ".py",
   "mimetype": "text/x-python",
   "name": "python",
   "nbconvert_exporter": "python",
   "pygments_lexer": "ipython3",
   "version": "3.12.6"
  }
 },
 "nbformat": 4,
 "nbformat_minor": 2
}
